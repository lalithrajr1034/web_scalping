{
 "cells": [
  {
   "cell_type": "code",
   "execution_count": 122,
   "id": "f307c448-36ef-4ff5-a43f-bffa91e8326e",
   "metadata": {},
   "outputs": [
    {
     "name": "stdout",
     "output_type": "stream",
     "text": [
      "Requirement already satisfied: lxml in l:\\conda\\lib\\site-packages (5.2.1)\n"
     ]
    }
   ],
   "source": [
    "import requests\n",
    "from bs4 import BeautifulSoup\n",
    "!pip install lxml"
   ]
  },
  {
   "cell_type": "code",
   "execution_count": 124,
   "id": "5100bc03-e005-405d-a831-30a047afd661",
   "metadata": {},
   "outputs": [
    {
     "data": {
      "text/plain": [
       "<Response [200]>"
      ]
     },
     "execution_count": 124,
     "metadata": {},
     "output_type": "execute_result"
    }
   ],
   "source": [
    "req = requests.get(\"https://www.naukri.com/allcompanies?searchType=standardLogo&title=Sponsored+companies&branding=%257B%2522pagename%2522%253A%2522ni-desktop-standard-viewAll%2522%257D&pageNo=1&qcount=47/\")\n",
    "req\n",
    "# page 1-10"
   ]
  },
  {
   "cell_type": "code",
   "execution_count": 126,
   "id": "7ceb7329-33dd-4123-93c8-00c2262b02c6",
   "metadata": {},
   "outputs": [
    {
     "name": "stdout",
     "output_type": "stream",
     "text": [
      "{'Server': 'nginx', 'Content-Type': 'text/html; charset=utf-8', 'X-Powered-By': 'Express', 'ETag': 'W/\"24d3-XqM26oHW4K2UEgHfGmS0s/3CRJ4\"', 'X-Frame-Options': 'SAMEORIGIN', 'Content-Encoding': 'br', 'Content-Length': '2456', 'X-EdgeConnect-MidMile-RTT': '18', 'X-EdgeConnect-Origin-MEX-Latency': '6', 'Date': 'Mon, 15 Sep 2025 07:31:22 GMT', 'Connection': 'keep-alive', 'Set-Cookie': '_t_ds=55143b1757921481-2855143b-055143b; expires=Tue, 15-Sep-2026 07:31:22 GMT; path=/; domain=.naukri.com; secure; HttpOnly; SameSite=Lax, J=0; expires=Tue, 15-Sep-2026 07:31:22 GMT; path=/; domain=.naukri.com; secure; HttpOnly; SameSite=Lax', 'X-Content-Type-Options': 'nosniff', 'Strict-Transport-Security': 'max-age=31536000 ; includeSubDomains ; preload'}\n"
     ]
    }
   ],
   "source": [
    "print(req.headers)"
   ]
  },
  {
   "cell_type": "code",
   "execution_count": 174,
   "id": "aa38c029-b15a-49fd-9ccf-4ca4ae9ec21f",
   "metadata": {
    "scrolled": true
   },
   "outputs": [
    {
     "ename": "AttributeError",
     "evalue": "'Response' object has no attribute 'page_source'",
     "output_type": "error",
     "traceback": [
      "\u001b[1;31m---------------------------------------------------------------------------\u001b[0m",
      "\u001b[1;31mAttributeError\u001b[0m                            Traceback (most recent call last)",
      "Cell \u001b[1;32mIn[174], line 1\u001b[0m\n\u001b[1;32m----> 1\u001b[0m soup \u001b[38;5;241m=\u001b[39m BeautifulSoup(req\u001b[38;5;241m.\u001b[39mpage_source, \u001b[38;5;124m\"\u001b[39m\u001b[38;5;124mhtml.parser\u001b[39m\u001b[38;5;124m\"\u001b[39m)\n",
      "\u001b[1;31mAttributeError\u001b[0m: 'Response' object has no attribute 'page_source'"
     ]
    }
   ],
   "source": [
    "soup = BeautifulSoup(req.page_source, \"html.parser\")"
   ]
  },
  {
   "cell_type": "code",
   "execution_count": 161,
   "id": "eadd0fbc-b25b-43f4-a17d-d86b533c8ba0",
   "metadata": {
    "collapsed": true,
    "jupyter": {
     "outputs_hidden": true
    },
    "scrolled": true
   },
   "outputs": [
    {
     "name": "stdout",
     "output_type": "stream",
     "text": [
      "<bound method Tag.prettify of <!DOCTYPE html>\n",
      "\n",
      "<html>\n",
      "<head>\n",
      "<meta content=\"IE=Edge\" http-equiv=\"X-UA-Compatible\"/>\n",
      "<meta content=\"EN\" name=\"content-language\"/>\n",
      "<meta content=\"noindex,follow\" name=\"robots\"/>\n",
      "<meta content=\"width=device-width, initial-scale=1\" name=\"viewport\"/>\n",
      "<link href=\"//www.naukri.com//allcompanies?searchType=standardLogo&amp;title=Sponsored+companies&amp;branding=%257B%2522pagename%2522%253A%2522ni-desktop-standard-viewAll%2522%257D&amp;pageNo=1&amp;qcount=47/\" rel=\"canonical\"/>\n",
      "<meta content=\"2025 Naukri.com\" name=\"copyright\"/>\n",
      "<meta content=\"text/html; charset=utf-8\" http-equiv=\"Content-Type\"/>\n",
      "<link href=\"//static.naukimg.com/s/7/103\" rel=\"dns-prefetch preconnect\"/>\n",
      "<link as=\"style\" href=\"//static.naukimg.com/s/7/103/c/main.83f061a1.min.css\" rel=\"preload\"/>\n",
      "<link as=\"script\" href=\"//static.naukimg.com/s/7/103/j/main.ca722b2a.min.js\" rel=\"preload\"/>\n",
      "<link href=\"//static.naukimg.com/s/7/103/c/main.83f061a1.min.css\" rel=\"stylesheet\"/>\n",
      "<title></title>\n",
      "<link href=\"/favicon.ico\" rel=\"icon\" type=\"image/x-icon\"/>\n",
      "<link as=\"font\" crossorigin=\"true\" href=\"https://fonts.gstatic.com/s/inter/v3/UcC73FwrK3iLTeHuS_fvQtMwCp50KnMa1ZL7W0Q5nw.woff2\" rel=\"preload\"/>\n",
      "<link as=\"image\" href=\"https://static.naukimg.com/s/4/100/i/naukri_Logo.png\" rel=\"preload\"/>\n",
      "<link href=\"https://fonts.googleapis.com/css2?family=Roboto:ital,wght@0,100;0,300;0,400;0,500;0,700;0,900;1,100;1,300;1,400;1,500;1,700;1,900&amp;display=swap\" rel=\"stylesheet\"/>\n",
      "<script>\n",
      "    var loginStatus = false,\n",
      "      otherSrc = \"\";\n",
      "    otherSrc = \"\";\n",
      "  </script>\n",
      "<style>\n",
      "    body{\n",
      "      --scrollbar-width: calc(100vw - 100%);\n",
      "    }\n",
      "  </style>\n",
      "</head>\n",
      "<body>\n",
      "<img height=\"99999\" src=\"data:image/svg+xml;base64,PD94bWwgdmVyc2lvbj0iMS4wI iBlbmNvZGluZz0iVVRGLTgiPz48c3ZnIHdpZHRoPSI5OTk5OXB4IiBoZWlnaHQ9Ijk5OTk5cHgiIHZpZXdCb3g9IjAgMCA5OTk5OSA5OTk5OSIgdmVyc2lvbj0iMS4xIiB4bWxucz0iaHR0cDovL3d3dy53My5vcmcvMjAwMC9zdmciIHhtbG5zOnhsaW5rPSJodHRwOi8v d3d3LnczLm9yZy8xOTk5L3hsaW5rIj48ZyBzdHJva2U9Im5vbmUiIGZpbGw9Im5vbmUiIGZpbGwtb3BhY2l0eT0iMCI+PHJlY3QgeD0iMCIgeT0iMCIgd2lkdGg9Ijk5OTk5IiBoZWlnaHQ9Ijk5OTk5Ij48L3JlY3Q+IDwvZz4gPC9zdmc+\" style=\"pointer-events:none;position:absolute;top:0;left:0;width:calc(100vw - var(--scrollbar-width));height:99vh;max-width:calc(100vw - var(--scrollbar-width));max-height:99vh\" width=\"99999\"/>\n",
      "<img height=\"400\" src=\"https://static.naukimg.com/s/0/0/i/transparentImg.png\" style=\"pointer-events:none;position:absolute;top:0;left:0;width:90vw;height:400px;max-width:90vw;max-height:400px\" width=\"400\"/>\n",
      "<div id=\"root\"></div>\n",
      "<script defer=\"\" src=\"//static.naukimg.com/s/7/103/j/runtime-main.e4ffa5b3.min.js\" type=\"text/javascript\"></script>\n",
      "<script defer=\"\" src=\"https://static.naukimg.com/s/7/0/j/widget-client-ni.min.js\" type=\"text/javascript\"></script>\n",
      "<script defer=\"\" src=\"//static.naukimg.com/s/7/103/j/vendors~main.c3a9ebe2.min.js\" type=\"text/javascript\"></script>\n",
      "<script defer=\"\" src=\"//static.naukimg.com/s/7/103/j/main.ca722b2a.min.js\" type=\"text/javascript\"></script>\n",
      "<script type=\"speculationrules\">\n",
      "      {\n",
      "                \"prefetch\": [{\n",
      "          \"source\": \"document\",\n",
      "          \"expects_no_vary_search\": \"params=(\\\"src\\\")\",\n",
      "          \"where\": {\n",
      "            \"and\": [\n",
      "                  { \"selector_matches\": \".nI-gNb-Jobs a\" }\n",
      "            ]\n",
      "          },\n",
      "          \"eagerness\": \"moderate\"\n",
      "        }]\n",
      "      }\n",
      "  </script>\n",
      "</body>\n",
      "<script async=\"\">\n",
      "  const interFonts =\n",
      "    '@font-face{font-family:Inter;font-style:normal;font-weight:400;font-display:swap;src:url(https://fonts.gstatic.com/s/inter/v3/UcC73FwrK3iLTeHuS_fvQtMwCp50KnMa25L7W0Q5n-wU.woff2) format(\"woff2\");unicode-range:U+0100-024F,U+0259,U+1E00-1EFF,U+2020,U+20A0-20AB,U+20AD-20CF,U+2113,U+2C60-2C7F,U+A720-A7FF}@font-face{font-family:Inter;font-style:normal;font-weight:400;font-display:swap;src:url(https://fonts.gstatic.com/s/inter/v3/UcC73FwrK3iLTeHuS_fvQtMwCp50KnMa1ZL7W0Q5nw.woff2) format(\"woff2\");unicode-range:U+0000-00FF,U+0131,U+0152-0153,U+02BB-02BC,U+02C6,U+02DA,U+02DC,U+2000-206F,U+2074,U+20AC,U+2122,U+2191,U+2193,U+2212,U+2215,U+FEFF,U+FFFD}@font-face{font-family:Inter;font-style:normal;font-weight:500;font-display:swap;src:url(https://fonts.gstatic.com/s/inter/v3/UcC73FwrK3iLTeHuS_fvQtMwCp50KnMa25L7W0Q5n-wU.woff2) format(\"woff2\");unicode-range:U+0100-024F,U+0259,U+1E00-1EFF,U+2020,U+20A0-20AB,U+20AD-20CF,U+2113,U+2C60-2C7F,U+A720-A7FF}@font-face{font-family:Inter;font-style:normal;font-weight:500;font-display:swap;src:url(https://fonts.gstatic.com/s/inter/v3/UcC73FwrK3iLTeHuS_fvQtMwCp50KnMa1ZL7W0Q5nw.woff2) format(\"woff2\");unicode-range:U+0000-00FF,U+0131,U+0152-0153,U+02BB-02BC,U+02C6,U+02DA,U+02DC,U+2000-206F,U+2074,U+20AC,U+2122,U+2191,U+2193,U+2212,U+2215,U+FEFF,U+FFFD}@font-face{font-family:Inter;font-style:normal;font-weight:600;font-display:swap;src:url(https://fonts.gstatic.com/s/inter/v3/UcC73FwrK3iLTeHuS_fvQtMwCp50KnMa25L7W0Q5n-wU.woff2) format(\"woff2\");unicode-range:U+0100-024F,U+0259,U+1E00-1EFF,U+2020,U+20A0-20AB,U+20AD-20CF,U+2113,U+2C60-2C7F,U+A720-A7FF}@font-face{font-family:Inter;font-style:normal;font-weight:600;font-display:swap;src:url(https://fonts.gstatic.com/s/inter/v3/UcC73FwrK3iLTeHuS_fvQtMwCp50KnMa1ZL7W0Q5nw.woff2) format(\"woff2\");unicode-range:U+0000-00FF,U+0131,U+0152-0153,U+02BB-02BC,U+02C6,U+02DA,U+02DC,U+2000-206F,U+2074,U+20AC,U+2122,U+2191,U+2193,U+2212,U+2215,U+FEFF,U+FFFD}@font-face{font-family:Inter;font-style:normal;font-weight:700;font-display:swap;src:url(https://fonts.gstatic.com/s/inter/v3/UcC73FwrK3iLTeHuS_fvQtMwCp50KnMa25L7W0Q5n-wU.woff2) format(\"woff2\");unicode-range:U+0100-024F,U+0259,U+1E00-1EFF,U+2020,U+20A0-20AB,U+20AD-20CF,U+2113,U+2C60-2C7F,U+A720-A7FF}@font-face{font-family:Inter;font-style:normal;font-weight:700;font-display:swap;src:url(https://fonts.gstatic.com/s/inter/v3/UcC73FwrK3iLTeHuS_fvQtMwCp50KnMa1ZL7W0Q5nw.woff2) format(\"woff2\");unicode-range:U+0000-00FF,U+0131,U+0152-0153,U+02BB-02BC,U+02C6,U+02DA,U+02DC,U+2000-206F,U+2074,U+20AC,U+2122,U+2191,U+2193,U+2212,U+2215,U+FEFF,U+FFFD}@font-face{font-family:Inter;font-style:normal;font-weight:800;font-display:swap;src:url(https://fonts.gstatic.com/s/inter/v3/UcC73FwrK3iLTeHuS_fvQtMwCp50KnMa25L7W0Q5n-wU.woff2) format(\"woff2\");unicode-range:U+0100-024F,U+0259,U+1E00-1EFF,U+2020,U+20A0-20AB,U+20AD-20CF,U+2113,U+2C60-2C7F,U+A720-A7FF}@font-face{font-family:Inter;font-style:normal;font-weight:800;font-display:swap;src:url(https://fonts.gstatic.com/s/inter/v3/UcC73FwrK3iLTeHuS_fvQtMwCp50KnMa1ZL7W0Q5nw.woff2) format(\"woff2\");unicode-range:U+0000-00FF,U+0131,U+0152-0153,U+02BB-02BC,U+02C6,U+02DA,U+02DC,U+2000-206F,U+2074,U+20AC,U+2122,U+2191,U+2193,U+2212,U+2215,U+FEFF,U+FFFD}';\n",
      "\n",
      "  var interFont = document.createElement(\"style\");\n",
      "\n",
      "  interFont.type = \"text/css\";\n",
      "  interFont.appendChild(document.createTextNode(interFonts));\n",
      "  document.head.appendChild(interFont);\n",
      "\n",
      "    \n",
      "\n",
      "      var queuedSuperProps = [];\n",
      "    var queuedEvents = [];\n",
      "    window.ub = {\n",
      "      track: function (eventName, eventProps) {\n",
      "        queuedEvents.push([eventName, eventProps]);\n",
      "      },\n",
      "      register: function (properties) {\n",
      "        queuedSuperProps.push(properties);\n",
      "      },\n",
      "    };\n",
      "    var script = document.createElement(\"script\");\n",
      "    script.async = true;\n",
      "    script.src = \"//static.naukimg.com/s/0/1/j/ub_v1.16.min.js\";\n",
      "    script.onload = function () {\n",
      "      ub.init({\n",
      "        beaconUrl: \"https://logs.naukri.com/uba\",\n",
      "        bulkBeaconUrl: \"https://logs.naukri.com/collectorapi/v1/uba/bulk\",\n",
      "        queuedEvents: queuedEvents,\n",
      "        trackTdsCookie: true,\n",
      "        queuedSuperProps: queuedSuperProps,\n",
      "        tenantId: \"1\",\n",
      "        subclientTenantId:'0',\n",
      "        autoTrack: false,\n",
      "        blackList: [],\n",
      "      });\n",
      "    };\n",
      "    ub.register({ appId: 103, pageName: \"companyListing\", tenantId: \"1\", subclientTenantId:'0' });\n",
      "    document.head.appendChild(script);\n",
      "    //hack of IE and safari bug : Super expression must either be null or a function, not undefined\n",
      "    if (typeof HTMLElement !== \"function\") {\n",
      "      var _HTMLElement = function () { };\n",
      "      _HTMLElement.prototype = HTMLElement.prototype;\n",
      "      HTMLElement = _HTMLElement;\n",
      "    }\n",
      "\n",
      "    \n",
      "    var nLoggerScript = document.createElement(\"script\");\n",
      "    nLoggerScript.defer = true;\n",
      "    nLoggerScript.src = \"//static.naukimg.com/s/0/0/j/nLoggerJB_v3.4.min.js\";\n",
      "    nLoggerScript.onload = function () {\n",
      "      window.nLogger &&\n",
      "        nLogger.init({\n",
      "          tag: \"companyListing\",\n",
      "          nLogger: {\n",
      "            beaconUrl: \"https:\\\\/\\\\/lg.naukri.com\\\\/uba\",\n",
      "            eventName: \"newMonkError\",\n",
      "            deviceType: \"SERVER\",\n",
      "          },\n",
      "          boomerang: {\n",
      "            logBW: false,\n",
      "            beaconUrl: \"https:\\\\/\\\\/lg.naukri.com\\\\/uba\",\n",
      "            imageURL: \"\\\\/\\\\/static.naukimg.com\\\\/s\\\\/0\\\\/0\\\\/i\\\\/\",\n",
      "            eventName: \"newMonkPerformance\",\n",
      "            deviceType: \"SERVER\",\n",
      "          },\n",
      "          tenantId: 1,\n",
      "          appId: 103,\n",
      "        });\n",
      "    };\n",
      "    document.head.appendChild(nLoggerScript);\n",
      "    \n",
      "\n",
      "    (function (w, d, s, l, i) {\n",
      "      w[l] = w[l] || [];\n",
      "      w[l].push({\n",
      "        \"gtm.start\": new Date().getTime(),\n",
      "        event: \"gtm.js\",\n",
      "      });\n",
      "      var f = d.getElementsByTagName(s)[0],\n",
      "        j = d.createElement(s),\n",
      "        dl = l != \"dataLayer\" ? \"&l=\" + l : \"\";\n",
      "      j.defer = true;\n",
      "      j.src = \"https://www.googletagmanager.com/gtm.js?id=\" + i + dl;\n",
      "      f.parentNode.insertBefore(j, f);\n",
      "    })(window, document, \"script\", \"dataLayer\", \"GTM-NX744H\");\n",
      "    \n",
      "</script>\n",
      "</html>>\n"
     ]
    }
   ],
   "source": [
    "print(soup.prettify)"
   ]
  },
  {
   "cell_type": "code",
   "execution_count": 167,
   "id": "73fbfbaf-3f31-4cc4-bb1a-f0c5b0b61d5a",
   "metadata": {},
   "outputs": [
    {
     "data": {
      "text/plain": [
       "[]"
      ]
     },
     "execution_count": 167,
     "metadata": {},
     "output_type": "execute_result"
    }
   ],
   "source": [
    "soup.find_all(\"a\", class_=\"tuple standard\")"
   ]
  },
  {
   "cell_type": "code",
   "execution_count": 165,
   "id": "b8de2da4-d240-4fe0-a51a-fd3930d9b6dc",
   "metadata": {},
   "outputs": [
    {
     "name": "stdout",
     "output_type": "stream",
     "text": [
      "\n",
      "hi\n"
     ]
    }
   ],
   "source": [
    "for i in soup.find_all('div'):\n",
    "    print(i.text) \n",
    "    print(\"hi\")"
   ]
  },
  {
   "cell_type": "code",
   "execution_count": 184,
   "id": "febdaf76-ca8c-4eb9-ab33-3b90fbcc8e77",
   "metadata": {
    "scrolled": true
   },
   "outputs": [
    {
     "name": "stdout",
     "output_type": "stream",
     "text": [
      "None None None None\n",
      "None None None None\n",
      "None None None None\n",
      "None None None None\n",
      "None None None None\n",
      "None None None None\n",
      "None None None None\n",
      "None None None None\n",
      "None None None None\n",
      "None None None None\n",
      "None None None None\n",
      "None None None None\n"
     ]
    }
   ],
   "source": [
    "from selenium import webdriver\n",
    "from bs4 import BeautifulSoup\n",
    "import time\n",
    "lis_name = []\n",
    "lis_rati = []\n",
    "lis_revi = []\n",
    "lis_tags = []\n",
    "driver = webdriver.Chrome()\n",
    "driver.get(\"https://www.naukri.com/top-companies\")\n",
    "time.sleep(5)  # wait for JS to render\n",
    "\n",
    "soup = BeautifulSoup(driver.page_source, \"html.parser\")\n",
    "companies = soup.find_all(\"div\", class_=\"tuple standard\")\n",
    "\n",
    "for c in companies:\n",
    "    name_tag = c.find(\"a\", class_=\"compName\")\n",
    "    rating_tag = c.find(\"span\", class_=\"rating\")\n",
    "    reviews_tag = c.find(\"span\", class_=\"reviews\")\n",
    "    tags = [t.text.strip() for t in c.find_all(\"span\", class_=\"cardtag\")]\n",
    "\n",
    "    name = name_tag.text.strip() if name_tag else \"N/A\"\n",
    "    rating = rating_tag.text.strip() if rating_tag else \"N/A\"\n",
    "    reviews = reviews_tag.text.strip() if reviews_tag else \"N/A\"\n",
    "\n",
    "    print(lis_name.append(name), lis_rati.append(rating),lis_revi.append(reviews),lis_tags.append(tags))\n",
    "\n",
    "driver.quit()\n"
   ]
  },
  {
   "cell_type": "code",
   "execution_count": null,
   "id": "68ca66dd-7f05-419a-82d1-4a4aa254bd36",
   "metadata": {},
   "outputs": [],
   "source": []
  }
 ],
 "metadata": {
  "kernelspec": {
   "display_name": "Python 3 (ipykernel)",
   "language": "python",
   "name": "python3"
  },
  "language_info": {
   "codemirror_mode": {
    "name": "ipython",
    "version": 3
   },
   "file_extension": ".py",
   "mimetype": "text/x-python",
   "name": "python",
   "nbconvert_exporter": "python",
   "pygments_lexer": "ipython3",
   "version": "3.12.3"
  }
 },
 "nbformat": 4,
 "nbformat_minor": 5
}
