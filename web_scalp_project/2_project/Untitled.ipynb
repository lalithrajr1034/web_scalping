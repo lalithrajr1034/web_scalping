{
 "cells": [
  {
   "cell_type": "code",
   "execution_count": 9,
   "id": "f59f76fe-9143-45f2-ad09-655d837025f8",
   "metadata": {},
   "outputs": [],
   "source": [
    "import pandas as pd\n",
    "from bs4 import BeautifulSoup\n",
    "import requests\n",
    "import numpy as np"
   ]
  },
  {
   "cell_type": "code",
   "execution_count": 11,
   "id": "a89f7153-d8e9-413a-bcfe-7d62ebb2a86d",
   "metadata": {},
   "outputs": [],
   "source": [
    "\n",
    "header = {\"User-Agent\":\"Mozilla/5.0 (Windows NT 10.0; Win64; x64) AppleWebKit/537.36 (KHTML, like Gecko) Chrome/84.0.4147.105 Safari/537.36\"}"
   ]
  },
  {
   "cell_type": "code",
   "execution_count": null,
   "id": "100d9ee4-a6b3-4ef1-aaef-13b709263004",
   "metadata": {},
   "outputs": [],
   "source": [
    "webpage=requests.get('https://www.ambitionbox.com/list-of-companies?page=1', headers = header).text"
   ]
  },
  {
   "cell_type": "code",
   "execution_count": null,
   "id": "70343241-2a16-4011-b3ad-eac190f1108e",
   "metadata": {},
   "outputs": [],
   "source": [
    "webpage"
   ]
  },
  {
   "cell_type": "code",
   "execution_count": null,
   "id": "8696e1e8-f0ee-4eff-9ad1-c874933b14a2",
   "metadata": {},
   "outputs": [],
   "source": []
  }
 ],
 "metadata": {
  "kernelspec": {
   "display_name": "Python 3 (ipykernel)",
   "language": "python",
   "name": "python3"
  },
  "language_info": {
   "codemirror_mode": {
    "name": "ipython",
    "version": 3
   },
   "file_extension": ".py",
   "mimetype": "text/x-python",
   "name": "python",
   "nbconvert_exporter": "python",
   "pygments_lexer": "ipython3",
   "version": "3.12.3"
  }
 },
 "nbformat": 4,
 "nbformat_minor": 5
}
