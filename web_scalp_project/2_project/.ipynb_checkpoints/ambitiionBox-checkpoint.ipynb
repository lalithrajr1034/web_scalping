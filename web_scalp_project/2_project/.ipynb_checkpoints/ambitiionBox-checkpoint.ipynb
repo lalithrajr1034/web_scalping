{
 "cells": [
  {
   "cell_type": "code",
   "execution_count": 5,
   "id": "e33d4e72-cb9b-413e-9bd5-920d43561c29",
   "metadata": {},
   "outputs": [],
   "source": [
    "import pandas as pd\n",
    "from bs4 import BeautifulSoup\n",
    "import requests\n",
    "import numpy as np"
   ]
  },
  {
   "cell_type": "markdown",
   "id": "f2b5e27f-1aca-452b-afa1-6a5631ca6d0f",
   "metadata": {},
   "source": [
    "if ersponse code is 403"
   ]
  },
  {
   "cell_type": "code",
   "execution_count": 8,
   "id": "07ab0d4b-d72b-439c-82e9-fb28a7d9fbeb",
   "metadata": {},
   "outputs": [],
   "source": [
    "\n",
    "header = {\"User-Agent\":\"Mozilla/5.0 (Windows NT 10.0; Win64; x64) AppleWebKit/537.36 (KHTML, like Gecko) Chrome/84.0.4147.105 Safari/537.36\"}"
   ]
  },
  {
   "cell_type": "code",
   "execution_count": null,
   "id": "6b798506-9ee6-4b90-b8db-9cb4305c2371",
   "metadata": {},
   "outputs": [],
   "source": [
    "# #if the response code is not 403\n",
    "# req = requests.get(https://www.ambitionbox.com/list-of-companies?page=1) #1-500\n",
    "\n",
    "req = requests.get(\"https://www.ambitionbox.com/list-of-companies?page=1\", headers = header) #1-500\n",
    "req.status_code #if the code is 200 then it is good"
   ]
  },
  {
   "cell_type": "code",
   "execution_count": null,
   "id": "0361f959-df81-40ab-8536-352e67de41e4",
   "metadata": {},
   "outputs": [],
   "source": []
  }
 ],
 "metadata": {
  "kernelspec": {
   "display_name": "Python 3 (ipykernel)",
   "language": "python",
   "name": "python3"
  },
  "language_info": {
   "codemirror_mode": {
    "name": "ipython",
    "version": 3
   },
   "file_extension": ".py",
   "mimetype": "text/x-python",
   "name": "python",
   "nbconvert_exporter": "python",
   "pygments_lexer": "ipython3",
   "version": "3.12.3"
  }
 },
 "nbformat": 4,
 "nbformat_minor": 5
}
