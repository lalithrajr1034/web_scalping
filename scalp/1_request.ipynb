{
 "cells": [
  {
   "cell_type": "code",
   "execution_count": 9,
   "id": "18470a2f-cade-4c42-86fe-79c7c26fd9cf",
   "metadata": {},
   "outputs": [],
   "source": [
    "# https://quotes.toscrape.com/ and https://books.toscrape.com/\n",
    "import requests"
   ]
  },
  {
   "cell_type": "code",
   "execution_count": 10,
   "id": "837b49a8-203c-454c-a6c0-7513cd3150fc",
   "metadata": {},
   "outputs": [
    {
     "name": "stdout",
     "output_type": "stream",
     "text": [
      "<Response [200]>\n"
     ]
    }
   ],
   "source": [
    "web=requests.get(\"https://www.tutorialsfreak.com/\")\n",
    "print(variable)"
   ]
  },
  {
   "cell_type": "code",
   "execution_count": 11,
   "id": "cc5f6f9c-523b-4819-8da1-cd06b5eb66a2",
   "metadata": {},
   "outputs": [
    {
     "data": {
      "text/plain": [
       "'https://www.tutorialsfreak.com/'"
      ]
     },
     "execution_count": 11,
     "metadata": {},
     "output_type": "execute_result"
    }
   ],
   "source": [
    "#WE USE THIS TO GET URL'S\n",
    "web.url"
   ]
  },
  {
   "cell_type": "code",
   "execution_count": 13,
   "id": "6c0e8095-a1a2-4bf4-a860-449696f861c0",
   "metadata": {},
   "outputs": [
    {
     "data": {
      "text/plain": [
       "200"
      ]
     },
     "execution_count": 13,
     "metadata": {},
     "output_type": "execute_result"
    }
   ],
   "source": [
    "#TO SEE THE STATUS CODE\n",
    "\"\"\"By this we can get to know the conditon of the web page  200 and 300 is good to scrap\"\"\"\n",
    "web.status_code"
   ]
  },
  {
   "cell_type": "code",
   "execution_count": null,
   "id": "0e66d5a1-957e-464d-88ec-24dc075ae665",
   "metadata": {},
   "outputs": [],
   "source": [
    "#By this we can get to know the all content\n",
    "web.content"
   ]
  }
 ],
 "metadata": {
  "kernelspec": {
   "display_name": "Python [conda env:base] *",
   "language": "python",
   "name": "conda-base-py"
  },
  "language_info": {
   "codemirror_mode": {
    "name": "ipython",
    "version": 3
   },
   "file_extension": ".py",
   "mimetype": "text/x-python",
   "name": "python",
   "nbconvert_exporter": "python",
   "pygments_lexer": "ipython3",
   "version": "3.12.3"
  }
 },
 "nbformat": 4,
 "nbformat_minor": 5
}
